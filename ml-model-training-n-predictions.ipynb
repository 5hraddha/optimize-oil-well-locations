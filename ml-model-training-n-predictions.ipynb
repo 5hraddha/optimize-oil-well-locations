{
 "cells": [
  {
   "cell_type": "markdown",
   "metadata": {},
   "source": [
    "# Optimizing Oil Well Locations: Maximizing Profit and Minimizing Risks"
   ]
  },
  {
   "cell_type": "markdown",
   "metadata": {},
   "source": [
    "# Contents <a id='contents'></a>\n",
    "\n",
    "[1. Contents](#contents)   \n",
    "[2. Introduction](#introduction)  \n",
    "[3. Project Goal](#project_goal)     \n",
    "[4. Initialization](#initialization)  \n",
    "[5. Load data](#load-data)  \n",
    "[6. Data Preprocessing](#data-preprocessing)  \n",
    "[7. Train and test the model for each region](#train-and-test)  \n",
    "[8. Prepare for profit calculation](#prepare-for-profit-calculation)    \n",
    "[9. Calculate profit from a set of selected oil wells](#profit-from-a-set-of-selected-oil-wells)  \n",
    "[10. Calculate risks and profit for each region](#risks-and-profit-for-each-region)  \n",
    "[11. Conclusion](#conclusion)"
   ]
  },
  {
   "cell_type": "markdown",
   "metadata": {},
   "source": [
    "# 1. Introduction <a id='introduction'></a> \n",
    "[Back to Contents](#contents)"
   ]
  },
  {
   "cell_type": "markdown",
   "metadata": {},
   "source": [
    "In the quest for harnessing valuable energy resources, the **OilyGiant mining company** embarks on a crucial mission to expand its operations by discovering new oil well locations. The success of this endeavor lies in identifying regions with the highest potential for profitable oil extraction while mitigating associated risks. To achieve this, a data-driven approach is adopted, leveraging geological exploration data from three distinct regions and employing techniques in data analysis and modeling.\n",
    "\n",
    "Beyond just prediction, the project delves into the realm of profit calculation. Key variables, such as the budget for development and the revenue per barrel of raw materials, are utilized to identify the volume of reserves required for a new well to be developed without incurring losses. These calculations serve as a crucial reference for selecting profitable oil wells."
   ]
  },
  {
   "cell_type": "markdown",
   "metadata": {},
   "source": [
    "# 2. Project Goal <a id='project_goal'></a>  \n",
    "[Back to Contents](#contents)"
   ]
  },
  {
   "cell_type": "markdown",
   "metadata": {},
   "source": [
    "The project goal is to identify the most suitable region for the development of new oil wells, considering two primary objectives:\n",
    "\n",
    "1. **Maximizing Profit**: The project aims to identify the region that offers the highest potential for profitable oil extraction. By accurately estimating the volume of reserves in the new wells using linear regression models and selecting the wells with the highest predicted values, the goal is to maximize the revenue generated from oil production.\n",
    "\n",
    "2. **Minimizing Risks**: In the pursuit of profit, the project also considers the associated risks. Through the application of the Bootstrapping technique, the project evaluates the distribution of profit and calculates the probability of losses in each region. The objective is to choose a region with a risk level below 2.5%, ensuring a secure investment and minimizing potential losses.\n",
    "\n",
    "By achieving these goals, the project aims to provide the OilyGiant mining company with data-driven insights and recommendations that lead to sound decision-making in selecting the region with the highest profit margin and the lowest risk for the development of new oil wells."
   ]
  },
  {
   "cell_type": "markdown",
   "metadata": {},
   "source": [
    "# 3. Initialization <a id='initialization'></a>  \n",
    "[Back to Contents](#contents)"
   ]
  },
  {
   "cell_type": "code",
   "execution_count": 1,
   "metadata": {},
   "outputs": [],
   "source": [
    "import pandas as pd\n",
    "import numpy as np\n",
    "from numpy.random import RandomState\n",
    "\n",
    "from sklearn.linear_model import LinearRegression\n",
    "from sklearn.model_selection import train_test_split\n",
    "from sklearn.metrics import mean_squared_error, r2_score"
   ]
  },
  {
   "cell_type": "markdown",
   "metadata": {},
   "source": [
    "# 4. Load data <a id='load-data'></a>  \n",
    "[Back to Contents](#contents)"
   ]
  },
  {
   "cell_type": "markdown",
   "metadata": {},
   "source": [
    "Geological exploration data for the three regions are stored in files: `geo_data_0.csv`, `geo_data_1.csv` and `geo_data_2.csv`. Let's load the datasets into separate Dataframes:"
   ]
  },
  {
   "cell_type": "code",
   "execution_count": 2,
   "metadata": {},
   "outputs": [],
   "source": [
    "# Read datasets into Dataframes\n",
    "df_geo_data_0 = pd.read_csv('./datasets/geo_data_0.csv')\n",
    "df_geo_data_1 = pd.read_csv('./datasets/geo_data_1.csv')\n",
    "df_geo_data_2 = pd.read_csv('./datasets/geo_data_2.csv')"
   ]
  },
  {
   "cell_type": "markdown",
   "metadata": {},
   "source": [
    "Great! the data has been loaded from the data files into separate dataframes."
   ]
  },
  {
   "cell_type": "markdown",
   "metadata": {},
   "source": [
    "# 5. Data Description <a id='data-description'></a>  \n",
    "[Back to Contents](#contents)"
   ]
  },
  {
   "cell_type": "markdown",
   "metadata": {},
   "source": [
    "Let's have a peek into the data in the dataframes."
   ]
  },
  {
   "cell_type": "code",
   "execution_count": 3,
   "metadata": {},
   "outputs": [
    {
     "data": {
      "text/html": [
       "<div>\n",
       "<style scoped>\n",
       "    .dataframe tbody tr th:only-of-type {\n",
       "        vertical-align: middle;\n",
       "    }\n",
       "\n",
       "    .dataframe tbody tr th {\n",
       "        vertical-align: top;\n",
       "    }\n",
       "\n",
       "    .dataframe thead th {\n",
       "        text-align: right;\n",
       "    }\n",
       "</style>\n",
       "<table border=\"1\" class=\"dataframe\">\n",
       "  <thead>\n",
       "    <tr style=\"text-align: right;\">\n",
       "      <th></th>\n",
       "      <th>id</th>\n",
       "      <th>f0</th>\n",
       "      <th>f1</th>\n",
       "      <th>f2</th>\n",
       "      <th>product</th>\n",
       "    </tr>\n",
       "  </thead>\n",
       "  <tbody>\n",
       "    <tr>\n",
       "      <th>0</th>\n",
       "      <td>txEyH</td>\n",
       "      <td>0.705745</td>\n",
       "      <td>-0.497823</td>\n",
       "      <td>1.221170</td>\n",
       "      <td>105.280062</td>\n",
       "    </tr>\n",
       "    <tr>\n",
       "      <th>1</th>\n",
       "      <td>2acmU</td>\n",
       "      <td>1.334711</td>\n",
       "      <td>-0.340164</td>\n",
       "      <td>4.365080</td>\n",
       "      <td>73.037750</td>\n",
       "    </tr>\n",
       "    <tr>\n",
       "      <th>2</th>\n",
       "      <td>409Wp</td>\n",
       "      <td>1.022732</td>\n",
       "      <td>0.151990</td>\n",
       "      <td>1.419926</td>\n",
       "      <td>85.265647</td>\n",
       "    </tr>\n",
       "    <tr>\n",
       "      <th>3</th>\n",
       "      <td>iJLyR</td>\n",
       "      <td>-0.032172</td>\n",
       "      <td>0.139033</td>\n",
       "      <td>2.978566</td>\n",
       "      <td>168.620776</td>\n",
       "    </tr>\n",
       "    <tr>\n",
       "      <th>4</th>\n",
       "      <td>Xdl7t</td>\n",
       "      <td>1.988431</td>\n",
       "      <td>0.155413</td>\n",
       "      <td>4.751769</td>\n",
       "      <td>154.036647</td>\n",
       "    </tr>\n",
       "  </tbody>\n",
       "</table>\n",
       "</div>"
      ],
      "text/plain": [
       "      id        f0        f1        f2     product\n",
       "0  txEyH  0.705745 -0.497823  1.221170  105.280062\n",
       "1  2acmU  1.334711 -0.340164  4.365080   73.037750\n",
       "2  409Wp  1.022732  0.151990  1.419926   85.265647\n",
       "3  iJLyR -0.032172  0.139033  2.978566  168.620776\n",
       "4  Xdl7t  1.988431  0.155413  4.751769  154.036647"
      ]
     },
     "execution_count": 3,
     "metadata": {},
     "output_type": "execute_result"
    }
   ],
   "source": [
    "# Get first 5 records of the dataframe - df_geo_data_0\n",
    "df_geo_data_0.head()"
   ]
  },
  {
   "cell_type": "code",
   "execution_count": 4,
   "metadata": {},
   "outputs": [
    {
     "data": {
      "text/html": [
       "<div>\n",
       "<style scoped>\n",
       "    .dataframe tbody tr th:only-of-type {\n",
       "        vertical-align: middle;\n",
       "    }\n",
       "\n",
       "    .dataframe tbody tr th {\n",
       "        vertical-align: top;\n",
       "    }\n",
       "\n",
       "    .dataframe thead th {\n",
       "        text-align: right;\n",
       "    }\n",
       "</style>\n",
       "<table border=\"1\" class=\"dataframe\">\n",
       "  <thead>\n",
       "    <tr style=\"text-align: right;\">\n",
       "      <th></th>\n",
       "      <th>id</th>\n",
       "      <th>f0</th>\n",
       "      <th>f1</th>\n",
       "      <th>f2</th>\n",
       "      <th>product</th>\n",
       "    </tr>\n",
       "  </thead>\n",
       "  <tbody>\n",
       "    <tr>\n",
       "      <th>0</th>\n",
       "      <td>kBEdx</td>\n",
       "      <td>-15.001348</td>\n",
       "      <td>-8.276000</td>\n",
       "      <td>-0.005876</td>\n",
       "      <td>3.179103</td>\n",
       "    </tr>\n",
       "    <tr>\n",
       "      <th>1</th>\n",
       "      <td>62mP7</td>\n",
       "      <td>14.272088</td>\n",
       "      <td>-3.475083</td>\n",
       "      <td>0.999183</td>\n",
       "      <td>26.953261</td>\n",
       "    </tr>\n",
       "    <tr>\n",
       "      <th>2</th>\n",
       "      <td>vyE1P</td>\n",
       "      <td>6.263187</td>\n",
       "      <td>-5.948386</td>\n",
       "      <td>5.001160</td>\n",
       "      <td>134.766305</td>\n",
       "    </tr>\n",
       "    <tr>\n",
       "      <th>3</th>\n",
       "      <td>KcrkZ</td>\n",
       "      <td>-13.081196</td>\n",
       "      <td>-11.506057</td>\n",
       "      <td>4.999415</td>\n",
       "      <td>137.945408</td>\n",
       "    </tr>\n",
       "    <tr>\n",
       "      <th>4</th>\n",
       "      <td>AHL4O</td>\n",
       "      <td>12.702195</td>\n",
       "      <td>-8.147433</td>\n",
       "      <td>5.004363</td>\n",
       "      <td>134.766305</td>\n",
       "    </tr>\n",
       "  </tbody>\n",
       "</table>\n",
       "</div>"
      ],
      "text/plain": [
       "      id         f0         f1        f2     product\n",
       "0  kBEdx -15.001348  -8.276000 -0.005876    3.179103\n",
       "1  62mP7  14.272088  -3.475083  0.999183   26.953261\n",
       "2  vyE1P   6.263187  -5.948386  5.001160  134.766305\n",
       "3  KcrkZ -13.081196 -11.506057  4.999415  137.945408\n",
       "4  AHL4O  12.702195  -8.147433  5.004363  134.766305"
      ]
     },
     "execution_count": 4,
     "metadata": {},
     "output_type": "execute_result"
    }
   ],
   "source": [
    "# Get first 5 records of the dataframe - df_geo_data_1\n",
    "df_geo_data_1.head()"
   ]
  },
  {
   "cell_type": "code",
   "execution_count": 5,
   "metadata": {},
   "outputs": [
    {
     "data": {
      "text/html": [
       "<div>\n",
       "<style scoped>\n",
       "    .dataframe tbody tr th:only-of-type {\n",
       "        vertical-align: middle;\n",
       "    }\n",
       "\n",
       "    .dataframe tbody tr th {\n",
       "        vertical-align: top;\n",
       "    }\n",
       "\n",
       "    .dataframe thead th {\n",
       "        text-align: right;\n",
       "    }\n",
       "</style>\n",
       "<table border=\"1\" class=\"dataframe\">\n",
       "  <thead>\n",
       "    <tr style=\"text-align: right;\">\n",
       "      <th></th>\n",
       "      <th>id</th>\n",
       "      <th>f0</th>\n",
       "      <th>f1</th>\n",
       "      <th>f2</th>\n",
       "      <th>product</th>\n",
       "    </tr>\n",
       "  </thead>\n",
       "  <tbody>\n",
       "    <tr>\n",
       "      <th>0</th>\n",
       "      <td>fwXo0</td>\n",
       "      <td>-1.146987</td>\n",
       "      <td>0.963328</td>\n",
       "      <td>-0.828965</td>\n",
       "      <td>27.758673</td>\n",
       "    </tr>\n",
       "    <tr>\n",
       "      <th>1</th>\n",
       "      <td>WJtFt</td>\n",
       "      <td>0.262778</td>\n",
       "      <td>0.269839</td>\n",
       "      <td>-2.530187</td>\n",
       "      <td>56.069697</td>\n",
       "    </tr>\n",
       "    <tr>\n",
       "      <th>2</th>\n",
       "      <td>ovLUW</td>\n",
       "      <td>0.194587</td>\n",
       "      <td>0.289035</td>\n",
       "      <td>-5.586433</td>\n",
       "      <td>62.871910</td>\n",
       "    </tr>\n",
       "    <tr>\n",
       "      <th>3</th>\n",
       "      <td>q6cA6</td>\n",
       "      <td>2.236060</td>\n",
       "      <td>-0.553760</td>\n",
       "      <td>0.930038</td>\n",
       "      <td>114.572842</td>\n",
       "    </tr>\n",
       "    <tr>\n",
       "      <th>4</th>\n",
       "      <td>WPMUX</td>\n",
       "      <td>-0.515993</td>\n",
       "      <td>1.716266</td>\n",
       "      <td>5.899011</td>\n",
       "      <td>149.600746</td>\n",
       "    </tr>\n",
       "  </tbody>\n",
       "</table>\n",
       "</div>"
      ],
      "text/plain": [
       "      id        f0        f1        f2     product\n",
       "0  fwXo0 -1.146987  0.963328 -0.828965   27.758673\n",
       "1  WJtFt  0.262778  0.269839 -2.530187   56.069697\n",
       "2  ovLUW  0.194587  0.289035 -5.586433   62.871910\n",
       "3  q6cA6  2.236060 -0.553760  0.930038  114.572842\n",
       "4  WPMUX -0.515993  1.716266  5.899011  149.600746"
      ]
     },
     "execution_count": 5,
     "metadata": {},
     "output_type": "execute_result"
    }
   ],
   "source": [
    "# Get first 5 records of the dataframe - df_geo_data_2\n",
    "df_geo_data_2.head()"
   ]
  },
  {
   "cell_type": "markdown",
   "metadata": {},
   "source": [
    "All the three dataframes have the same columns:  \n",
    "\n",
    "- `id`: Unique oil well identifier, representing each oil well's individual record.\n",
    "\n",
    "- `f0`, `f1`, `f2`: Three features of points. The specific meaning of these features is unimportant for the analysis, but they are significant for modeling the volume of reserves in the oil wells.\n",
    "\n",
    "- `product`: Volume of reserves in the oil well, measured in thousand barrels. This is the target variable for the prediction models.\n",
    "\n",
    "    **The datasets have a total of five columns, with `id`, `f0`, `f1`, and `f2` being the input features, and `product` being the target variable** representing the volume of reserves in each oil well."
   ]
  },
  {
   "cell_type": "markdown",
   "metadata": {},
   "source": [
    "Let's get some general information about each one of them:"
   ]
  },
  {
   "cell_type": "code",
   "execution_count": 6,
   "metadata": {
    "scrolled": true
   },
   "outputs": [
    {
     "name": "stdout",
     "output_type": "stream",
     "text": [
      "<class 'pandas.core.frame.DataFrame'>\n",
      "RangeIndex: 100000 entries, 0 to 99999\n",
      "Data columns (total 5 columns):\n",
      " #   Column   Non-Null Count   Dtype  \n",
      "---  ------   --------------   -----  \n",
      " 0   id       100000 non-null  object \n",
      " 1   f0       100000 non-null  float64\n",
      " 2   f1       100000 non-null  float64\n",
      " 3   f2       100000 non-null  float64\n",
      " 4   product  100000 non-null  float64\n",
      "dtypes: float64(4), object(1)\n",
      "memory usage: 3.8+ MB\n"
     ]
    }
   ],
   "source": [
    "# Get general information of the df_geo_data_0\n",
    "df_geo_data_0.info()"
   ]
  },
  {
   "cell_type": "markdown",
   "metadata": {},
   "source": [
    "The dataframe - `df_geo_data_0` have a total of **100000** witl all the columns having non-null values."
   ]
  },
  {
   "cell_type": "code",
   "execution_count": 7,
   "metadata": {},
   "outputs": [
    {
     "name": "stdout",
     "output_type": "stream",
     "text": [
      "<class 'pandas.core.frame.DataFrame'>\n",
      "RangeIndex: 100000 entries, 0 to 99999\n",
      "Data columns (total 5 columns):\n",
      " #   Column   Non-Null Count   Dtype  \n",
      "---  ------   --------------   -----  \n",
      " 0   id       100000 non-null  object \n",
      " 1   f0       100000 non-null  float64\n",
      " 2   f1       100000 non-null  float64\n",
      " 3   f2       100000 non-null  float64\n",
      " 4   product  100000 non-null  float64\n",
      "dtypes: float64(4), object(1)\n",
      "memory usage: 3.8+ MB\n"
     ]
    }
   ],
   "source": [
    "# Get general information of the df_geo_data_1\n",
    "df_geo_data_1.info()"
   ]
  },
  {
   "cell_type": "markdown",
   "metadata": {},
   "source": [
    "The dataframe - `df_geo_data_1` have a total of **100000** witl all the columns having non-null values."
   ]
  },
  {
   "cell_type": "code",
   "execution_count": 8,
   "metadata": {},
   "outputs": [
    {
     "name": "stdout",
     "output_type": "stream",
     "text": [
      "<class 'pandas.core.frame.DataFrame'>\n",
      "RangeIndex: 100000 entries, 0 to 99999\n",
      "Data columns (total 5 columns):\n",
      " #   Column   Non-Null Count   Dtype  \n",
      "---  ------   --------------   -----  \n",
      " 0   id       100000 non-null  object \n",
      " 1   f0       100000 non-null  float64\n",
      " 2   f1       100000 non-null  float64\n",
      " 3   f2       100000 non-null  float64\n",
      " 4   product  100000 non-null  float64\n",
      "dtypes: float64(4), object(1)\n",
      "memory usage: 3.8+ MB\n"
     ]
    }
   ],
   "source": [
    "# Get general information of the df_geo_data_2\n",
    "df_geo_data_2.info()"
   ]
  },
  {
   "cell_type": "markdown",
   "metadata": {},
   "source": [
    "The dataframe - `df_geo_data_2` have a total of **100000** witl all the columns having non-null values."
   ]
  },
  {
   "cell_type": "markdown",
   "metadata": {},
   "source": [
    "# 6. Data Preprocessing <a id='data-preprocessing'></a>  \n",
    "[Back to Contents](#contents)"
   ]
  },
  {
   "cell_type": "markdown",
   "metadata": {},
   "source": [
    "From the initial observation of the dataset's first few rows, it appears that **the numeric features (f0, f1, and f2) are already somewhat standardized**, meaning they might have been preprocessed or transformed to have similar scales. Additionally, **there are no categorical features present in the dataset**. The absence of categorical features simplifies the data preparation process, as no further encoding or transformation is required for these types of variables."
   ]
  },
  {
   "cell_type": "markdown",
   "metadata": {},
   "source": [
    "## Change the column names <a id='change-the-column-names'></a>  \n",
    "[Back to Contents](#contents)"
   ]
  },
  {
   "cell_type": "markdown",
   "metadata": {},
   "source": [
    "We'll change the name of the column - `product` in all the dataframes to `volume_of_reserves` to make it meaningful:"
   ]
  },
  {
   "cell_type": "code",
   "execution_count": 9,
   "metadata": {},
   "outputs": [],
   "source": [
    "# Rename column name\n",
    "new_column_name = { 'product': 'volume_of_reserves'}\n",
    "\n",
    "df_geo_data_0 = df_geo_data_0.rename(columns=new_column_name)\n",
    "df_geo_data_1 = df_geo_data_1.rename(columns=new_column_name)\n",
    "df_geo_data_2 = df_geo_data_2.rename(columns=new_column_name)"
   ]
  },
  {
   "cell_type": "markdown",
   "metadata": {},
   "source": [
    "Let's confirm the change:"
   ]
  },
  {
   "cell_type": "code",
   "execution_count": 10,
   "metadata": {},
   "outputs": [
    {
     "data": {
      "text/plain": [
       "Index(['id', 'f0', 'f1', 'f2', 'volume_of_reserves'], dtype='object')"
      ]
     },
     "execution_count": 10,
     "metadata": {},
     "output_type": "execute_result"
    }
   ],
   "source": [
    "# Get list of column names in df_geo_data_0\n",
    "df_geo_data_0.columns"
   ]
  },
  {
   "cell_type": "code",
   "execution_count": 11,
   "metadata": {},
   "outputs": [
    {
     "data": {
      "text/plain": [
       "Index(['id', 'f0', 'f1', 'f2', 'volume_of_reserves'], dtype='object')"
      ]
     },
     "execution_count": 11,
     "metadata": {},
     "output_type": "execute_result"
    }
   ],
   "source": [
    "# Get list of column names in df_geo_data_1\n",
    "df_geo_data_1.columns"
   ]
  },
  {
   "cell_type": "code",
   "execution_count": 12,
   "metadata": {},
   "outputs": [
    {
     "data": {
      "text/plain": [
       "Index(['id', 'f0', 'f1', 'f2', 'volume_of_reserves'], dtype='object')"
      ]
     },
     "execution_count": 12,
     "metadata": {},
     "output_type": "execute_result"
    }
   ],
   "source": [
    "# Get list of column names in df_geo_data_2\n",
    "df_geo_data_2.columns"
   ]
  },
  {
   "cell_type": "markdown",
   "metadata": {},
   "source": [
    "Great! Let's move to the next steps."
   ]
  },
  {
   "cell_type": "markdown",
   "metadata": {},
   "source": [
    "## Look for duplicates <a id='look-for-duplicates'></a>  \n",
    "[Back to Contents](#contents)"
   ]
  },
  {
   "cell_type": "markdown",
   "metadata": {},
   "source": [
    "Since we are going to check the same stuffs with three different dataframes, let's write a function to check for duplicates:"
   ]
  },
  {
   "cell_type": "code",
   "execution_count": 13,
   "metadata": {},
   "outputs": [],
   "source": [
    "# Function to check duplicate rows and ids in dataframes\n",
    "def check_duplicates_in_df(df: pd.DataFrame):\n",
    "    # Check for duplicate rows\n",
    "    print(f\"The no of duplicate rows: {df.duplicated().sum()}\")\n",
    "    \n",
    "    # Check for duplicate IDs\n",
    "    print(f\"The no of duplicate IDs: {df['id'].duplicated().sum()}\")"
   ]
  },
  {
   "cell_type": "markdown",
   "metadata": {},
   "source": [
    "Great! Now let's call our function on the three dataframes:"
   ]
  },
  {
   "cell_type": "code",
   "execution_count": 14,
   "metadata": {},
   "outputs": [
    {
     "name": "stdout",
     "output_type": "stream",
     "text": [
      "The no of duplicate rows: 0\n",
      "The no of duplicate IDs: 10\n"
     ]
    }
   ],
   "source": [
    "# Check for duplicates in df_geo_data_0\n",
    "check_duplicates_in_df(df_geo_data_0)"
   ]
  },
  {
   "cell_type": "code",
   "execution_count": 15,
   "metadata": {},
   "outputs": [
    {
     "name": "stdout",
     "output_type": "stream",
     "text": [
      "The no of duplicate rows: 0\n",
      "The no of duplicate IDs: 4\n"
     ]
    }
   ],
   "source": [
    "# Check for duplicates in df_geo_data_1\n",
    "check_duplicates_in_df(df_geo_data_1)"
   ]
  },
  {
   "cell_type": "code",
   "execution_count": 16,
   "metadata": {},
   "outputs": [
    {
     "name": "stdout",
     "output_type": "stream",
     "text": [
      "The no of duplicate rows: 0\n",
      "The no of duplicate IDs: 4\n"
     ]
    }
   ],
   "source": [
    "# Check for duplicates in df_geo_data_2\n",
    "check_duplicates_in_df(df_geo_data_2)"
   ]
  },
  {
   "cell_type": "markdown",
   "metadata": {},
   "source": [
    "Interesting! We have few duplicate ids in all the three dataframes. Let's look at all the records in the dataframes which are duplicates:"
   ]
  },
  {
   "cell_type": "code",
   "execution_count": 17,
   "metadata": {},
   "outputs": [
    {
     "data": {
      "text/html": [
       "<div>\n",
       "<style scoped>\n",
       "    .dataframe tbody tr th:only-of-type {\n",
       "        vertical-align: middle;\n",
       "    }\n",
       "\n",
       "    .dataframe tbody tr th {\n",
       "        vertical-align: top;\n",
       "    }\n",
       "\n",
       "    .dataframe thead th {\n",
       "        text-align: right;\n",
       "    }\n",
       "</style>\n",
       "<table border=\"1\" class=\"dataframe\">\n",
       "  <thead>\n",
       "    <tr style=\"text-align: right;\">\n",
       "      <th></th>\n",
       "      <th>id</th>\n",
       "      <th>f0</th>\n",
       "      <th>f1</th>\n",
       "      <th>f2</th>\n",
       "      <th>volume_of_reserves</th>\n",
       "    </tr>\n",
       "  </thead>\n",
       "  <tbody>\n",
       "    <tr>\n",
       "      <th>7530</th>\n",
       "      <td>HZww2</td>\n",
       "      <td>1.061194</td>\n",
       "      <td>-0.373969</td>\n",
       "      <td>10.430210</td>\n",
       "      <td>158.828695</td>\n",
       "    </tr>\n",
       "    <tr>\n",
       "      <th>41724</th>\n",
       "      <td>bxg6G</td>\n",
       "      <td>-0.823752</td>\n",
       "      <td>0.546319</td>\n",
       "      <td>3.630479</td>\n",
       "      <td>93.007798</td>\n",
       "    </tr>\n",
       "    <tr>\n",
       "      <th>51970</th>\n",
       "      <td>A5aEY</td>\n",
       "      <td>-0.180335</td>\n",
       "      <td>0.935548</td>\n",
       "      <td>-2.094773</td>\n",
       "      <td>33.020205</td>\n",
       "    </tr>\n",
       "    <tr>\n",
       "      <th>63593</th>\n",
       "      <td>QcMuo</td>\n",
       "      <td>0.635635</td>\n",
       "      <td>-0.473422</td>\n",
       "      <td>0.862670</td>\n",
       "      <td>64.578675</td>\n",
       "    </tr>\n",
       "    <tr>\n",
       "      <th>66136</th>\n",
       "      <td>74z30</td>\n",
       "      <td>1.084962</td>\n",
       "      <td>-0.312358</td>\n",
       "      <td>6.990771</td>\n",
       "      <td>127.643327</td>\n",
       "    </tr>\n",
       "    <tr>\n",
       "      <th>69163</th>\n",
       "      <td>AGS9W</td>\n",
       "      <td>-0.933795</td>\n",
       "      <td>0.116194</td>\n",
       "      <td>-3.655896</td>\n",
       "      <td>19.230453</td>\n",
       "    </tr>\n",
       "    <tr>\n",
       "      <th>75715</th>\n",
       "      <td>Tdehs</td>\n",
       "      <td>0.112079</td>\n",
       "      <td>0.430296</td>\n",
       "      <td>3.218993</td>\n",
       "      <td>60.964018</td>\n",
       "    </tr>\n",
       "    <tr>\n",
       "      <th>90815</th>\n",
       "      <td>fiKDv</td>\n",
       "      <td>0.049883</td>\n",
       "      <td>0.841313</td>\n",
       "      <td>6.394613</td>\n",
       "      <td>137.346586</td>\n",
       "    </tr>\n",
       "    <tr>\n",
       "      <th>92341</th>\n",
       "      <td>TtcGQ</td>\n",
       "      <td>0.110711</td>\n",
       "      <td>1.022689</td>\n",
       "      <td>0.911381</td>\n",
       "      <td>101.318008</td>\n",
       "    </tr>\n",
       "    <tr>\n",
       "      <th>97785</th>\n",
       "      <td>bsk9y</td>\n",
       "      <td>0.378429</td>\n",
       "      <td>0.005837</td>\n",
       "      <td>0.160827</td>\n",
       "      <td>160.637302</td>\n",
       "    </tr>\n",
       "  </tbody>\n",
       "</table>\n",
       "</div>"
      ],
      "text/plain": [
       "          id        f0        f1         f2  volume_of_reserves\n",
       "7530   HZww2  1.061194 -0.373969  10.430210          158.828695\n",
       "41724  bxg6G -0.823752  0.546319   3.630479           93.007798\n",
       "51970  A5aEY -0.180335  0.935548  -2.094773           33.020205\n",
       "63593  QcMuo  0.635635 -0.473422   0.862670           64.578675\n",
       "66136  74z30  1.084962 -0.312358   6.990771          127.643327\n",
       "69163  AGS9W -0.933795  0.116194  -3.655896           19.230453\n",
       "75715  Tdehs  0.112079  0.430296   3.218993           60.964018\n",
       "90815  fiKDv  0.049883  0.841313   6.394613          137.346586\n",
       "92341  TtcGQ  0.110711  1.022689   0.911381          101.318008\n",
       "97785  bsk9y  0.378429  0.005837   0.160827          160.637302"
      ]
     },
     "execution_count": 17,
     "metadata": {},
     "output_type": "execute_result"
    }
   ],
   "source": [
    "# Get all the 10 records that are duplicates in df_geo_data_0\n",
    "df_geo_data_0[df_geo_data_0['id'].duplicated()]"
   ]
  },
  {
   "cell_type": "code",
   "execution_count": 18,
   "metadata": {},
   "outputs": [
    {
     "data": {
      "text/html": [
       "<div>\n",
       "<style scoped>\n",
       "    .dataframe tbody tr th:only-of-type {\n",
       "        vertical-align: middle;\n",
       "    }\n",
       "\n",
       "    .dataframe tbody tr th {\n",
       "        vertical-align: top;\n",
       "    }\n",
       "\n",
       "    .dataframe thead th {\n",
       "        text-align: right;\n",
       "    }\n",
       "</style>\n",
       "<table border=\"1\" class=\"dataframe\">\n",
       "  <thead>\n",
       "    <tr style=\"text-align: right;\">\n",
       "      <th></th>\n",
       "      <th>id</th>\n",
       "      <th>f0</th>\n",
       "      <th>f1</th>\n",
       "      <th>f2</th>\n",
       "      <th>volume_of_reserves</th>\n",
       "    </tr>\n",
       "  </thead>\n",
       "  <tbody>\n",
       "    <tr>\n",
       "      <th>41906</th>\n",
       "      <td>LHZR0</td>\n",
       "      <td>-8.989672</td>\n",
       "      <td>-4.286607</td>\n",
       "      <td>2.009139</td>\n",
       "      <td>57.085625</td>\n",
       "    </tr>\n",
       "    <tr>\n",
       "      <th>82178</th>\n",
       "      <td>bfPNe</td>\n",
       "      <td>-6.202799</td>\n",
       "      <td>-4.820045</td>\n",
       "      <td>2.995107</td>\n",
       "      <td>84.038886</td>\n",
       "    </tr>\n",
       "    <tr>\n",
       "      <th>82873</th>\n",
       "      <td>wt4Uk</td>\n",
       "      <td>10.259972</td>\n",
       "      <td>-9.376355</td>\n",
       "      <td>4.994297</td>\n",
       "      <td>134.766305</td>\n",
       "    </tr>\n",
       "    <tr>\n",
       "      <th>84461</th>\n",
       "      <td>5ltQ6</td>\n",
       "      <td>18.213839</td>\n",
       "      <td>2.191999</td>\n",
       "      <td>3.993869</td>\n",
       "      <td>107.813044</td>\n",
       "    </tr>\n",
       "  </tbody>\n",
       "</table>\n",
       "</div>"
      ],
      "text/plain": [
       "          id         f0        f1        f2  volume_of_reserves\n",
       "41906  LHZR0  -8.989672 -4.286607  2.009139           57.085625\n",
       "82178  bfPNe  -6.202799 -4.820045  2.995107           84.038886\n",
       "82873  wt4Uk  10.259972 -9.376355  4.994297          134.766305\n",
       "84461  5ltQ6  18.213839  2.191999  3.993869          107.813044"
      ]
     },
     "execution_count": 18,
     "metadata": {},
     "output_type": "execute_result"
    }
   ],
   "source": [
    "# Get all the 4 records that are duplicates in df_geo_data_1\n",
    "df_geo_data_1[df_geo_data_1['id'].duplicated()]"
   ]
  },
  {
   "cell_type": "code",
   "execution_count": 19,
   "metadata": {},
   "outputs": [
    {
     "data": {
      "text/html": [
       "<div>\n",
       "<style scoped>\n",
       "    .dataframe tbody tr th:only-of-type {\n",
       "        vertical-align: middle;\n",
       "    }\n",
       "\n",
       "    .dataframe tbody tr th {\n",
       "        vertical-align: top;\n",
       "    }\n",
       "\n",
       "    .dataframe thead th {\n",
       "        text-align: right;\n",
       "    }\n",
       "</style>\n",
       "<table border=\"1\" class=\"dataframe\">\n",
       "  <thead>\n",
       "    <tr style=\"text-align: right;\">\n",
       "      <th></th>\n",
       "      <th>id</th>\n",
       "      <th>f0</th>\n",
       "      <th>f1</th>\n",
       "      <th>f2</th>\n",
       "      <th>volume_of_reserves</th>\n",
       "    </tr>\n",
       "  </thead>\n",
       "  <tbody>\n",
       "    <tr>\n",
       "      <th>43233</th>\n",
       "      <td>xCHr8</td>\n",
       "      <td>-0.847066</td>\n",
       "      <td>2.101796</td>\n",
       "      <td>5.597130</td>\n",
       "      <td>184.388641</td>\n",
       "    </tr>\n",
       "    <tr>\n",
       "      <th>49564</th>\n",
       "      <td>VF7Jo</td>\n",
       "      <td>-0.883115</td>\n",
       "      <td>0.560537</td>\n",
       "      <td>0.723601</td>\n",
       "      <td>136.233420</td>\n",
       "    </tr>\n",
       "    <tr>\n",
       "      <th>55967</th>\n",
       "      <td>KUPhW</td>\n",
       "      <td>1.211150</td>\n",
       "      <td>3.176408</td>\n",
       "      <td>5.543540</td>\n",
       "      <td>132.831802</td>\n",
       "    </tr>\n",
       "    <tr>\n",
       "      <th>95090</th>\n",
       "      <td>Vcm5J</td>\n",
       "      <td>2.587702</td>\n",
       "      <td>1.986875</td>\n",
       "      <td>2.482245</td>\n",
       "      <td>92.327572</td>\n",
       "    </tr>\n",
       "  </tbody>\n",
       "</table>\n",
       "</div>"
      ],
      "text/plain": [
       "          id        f0        f1        f2  volume_of_reserves\n",
       "43233  xCHr8 -0.847066  2.101796  5.597130          184.388641\n",
       "49564  VF7Jo -0.883115  0.560537  0.723601          136.233420\n",
       "55967  KUPhW  1.211150  3.176408  5.543540          132.831802\n",
       "95090  Vcm5J  2.587702  1.986875  2.482245           92.327572"
      ]
     },
     "execution_count": 19,
     "metadata": {},
     "output_type": "execute_result"
    }
   ],
   "source": [
    "# Get all the 4 records that are duplicates in df_geo_data_2\n",
    "df_geo_data_2[df_geo_data_2['id'].duplicated()]"
   ]
  },
  {
   "cell_type": "markdown",
   "metadata": {},
   "source": [
    "So, it seems that multiple samples were taken from the same well or that some wells were sampled more than once during different stages of exploration or drilling and that's why we have duplicate IDs in the dataframes. But, also since the actual values of the features and target are different, it seems we are good with the duplicate IDs."
   ]
  },
  {
   "cell_type": "markdown",
   "metadata": {},
   "source": [
    "## Remove columns not required for ML model <a id='remove-columns'></a>  \n",
    "[Back to Contents](#contents)"
   ]
  },
  {
   "cell_type": "markdown",
   "metadata": {},
   "source": [
    "After looking at the columns in all the three dataframes, it is evident that the column - `id` is not of significance in training our models so that they can predict our target, so, let's fet rid of that in all the three dataframes:"
   ]
  },
  {
   "cell_type": "code",
   "execution_count": 20,
   "metadata": {},
   "outputs": [
    {
     "data": {
      "text/plain": [
       "Index(['f0', 'f1', 'f2', 'volume_of_reserves'], dtype='object')"
      ]
     },
     "execution_count": 20,
     "metadata": {},
     "output_type": "execute_result"
    }
   ],
   "source": [
    "# Drop column - id in df_geo_data_0\n",
    "df_geo_data_0 = df_geo_data_0.drop(columns=['id'])\n",
    "df_geo_data_0.columns"
   ]
  },
  {
   "cell_type": "code",
   "execution_count": 21,
   "metadata": {},
   "outputs": [
    {
     "data": {
      "text/plain": [
       "Index(['f0', 'f1', 'f2', 'volume_of_reserves'], dtype='object')"
      ]
     },
     "execution_count": 21,
     "metadata": {},
     "output_type": "execute_result"
    }
   ],
   "source": [
    "# Drop column - id in df_geo_data_1\n",
    "df_geo_data_1 = df_geo_data_1.drop(columns=['id'])\n",
    "df_geo_data_1.columns"
   ]
  },
  {
   "cell_type": "code",
   "execution_count": 22,
   "metadata": {},
   "outputs": [
    {
     "data": {
      "text/plain": [
       "Index(['f0', 'f1', 'f2', 'volume_of_reserves'], dtype='object')"
      ]
     },
     "execution_count": 22,
     "metadata": {},
     "output_type": "execute_result"
    }
   ],
   "source": [
    "# Drop column - id in df_geo_data_2\n",
    "df_geo_data_2 = df_geo_data_2.drop(columns=['id'])\n",
    "df_geo_data_2.columns"
   ]
  },
  {
   "cell_type": "markdown",
   "metadata": {},
   "source": [
    "Great! We are good to go."
   ]
  },
  {
   "cell_type": "markdown",
   "metadata": {},
   "source": [
    "# 7. Train and test the model for each region <a id='train-and-test'></a>  \n",
    "[Back to Contents](#contents)"
   ]
  },
  {
   "cell_type": "markdown",
   "metadata": {},
   "source": [
    "Since we have to predict a numerical target (not a categorical one) - `volume_of_reserves`, we will use **Linear Regression** model. We will follow the listed steps:\n",
    "1. Split the data into a training set and validation set at a ratio of 75:25.\n",
    "2. Train the model and make predictions for the validation set.\n",
    "3. Save the predictions and correct answers for the validation set.\n",
    "4. Print the average volume of predicted reserves and model RMSE.\n",
    "5. Analyze the results.  \n",
    "\n",
    "We have three dataframes and since, we have to follow the above steps with all of the three dataframes, let's write a function to train and test the model for each region:"
   ]
  },
  {
   "cell_type": "code",
   "execution_count": 23,
   "metadata": {},
   "outputs": [],
   "source": [
    "# Function to train and test the model for each region\n",
    "def train_test_model(df: pd.DataFrame):\n",
    "    '''\n",
    "    This function:\n",
    "    1. Splits the dataframe into a training set and validation set at a ratio of 75:25.\n",
    "    2. Trains the Linear Regression model and make predictions for the validation set.\n",
    "    3. Save the predictions and correct answers for the validation set.\n",
    "    4. Calculates the average volume of predicted reserves and model RMSE.\n",
    "    '''\n",
    "    # Split the dataframe into features and target\n",
    "    features = df.drop(columns=['volume_of_reserves'])\n",
    "    target = df['volume_of_reserves']\n",
    "    \n",
    "    # Split the dataframe into a training set and validation set at a ratio of 75:25\n",
    "    features_train, features_valid, target_train, target_valid = train_test_split(features, target, test_size=0.25, random_state=12345)\n",
    "    \n",
    "    # Train the Linear Regression model on training set\n",
    "    model = LinearRegression()\n",
    "    model.fit(features_train, target_train)\n",
    "    \n",
    "    # Make predictions for validation set using the trained model\n",
    "    predictions_valid = model.predict(features_valid)\n",
    "    \n",
    "    # Calculate Mean Squared Error - MSE for the validation set\n",
    "    mse = mean_squared_error(target_valid, predictions_valid)\n",
    "    \n",
    "    # Calculate Root Mean Squared Error - RMSE for the validation set\n",
    "    rmse = mse ** 0.5\n",
    "    \n",
    "    # Calculate Coefficient of Determination - R2 metric for the validation set\n",
    "    r2 = r2_score(target_valid, predictions_valid)\n",
    "    \n",
    "    # Calculate the average volume of predicted reserves\n",
    "    avg_volume_of_pred_reserves = predictions_valid.mean()\n",
    "    \n",
    "    # Return target_valid, predictions_valid, rmse, r2, avg_volume_of_pred_reserves\n",
    "    return target_valid, predictions_valid, rmse, r2, avg_volume_of_pred_reserves"
   ]
  },
  {
   "cell_type": "markdown",
   "metadata": {},
   "source": [
    "Good! So, now we have a function that will do our desired job on all the three dataframes. Let's start with **geographical region # 1**:"
   ]
  },
  {
   "cell_type": "code",
   "execution_count": 24,
   "metadata": {},
   "outputs": [
    {
     "name": "stdout",
     "output_type": "stream",
     "text": [
      "Train and test the Linear Regression model for geographical region # 1\n",
      "RMSE: 37.5794217150813 \n",
      "Coefficient of Determination | R2: 0.27994321524487786 \n",
      "Average volume of predicted reserves: 92.59256778438035 \n"
     ]
    }
   ],
   "source": [
    "# Train and test the Linear Regression model for geographical region # 1\n",
    "print('Train and test the Linear Regression model for geographical region # 1')\n",
    "\n",
    "target_valid_0, predictions_valid_0, rmse_0, r2_0, avg_volume_of_pred_reserves_0 = train_test_model(df_geo_data_0)\n",
    "\n",
    "print(f'RMSE: {rmse_0} ')\n",
    "print(f'Coefficient of Determination | R2: {r2_0} ')\n",
    "print(f'Average volume of predicted reserves: {avg_volume_of_pred_reserves_0} ')"
   ]
  },
  {
   "cell_type": "markdown",
   "metadata": {},
   "source": [
    "Now for **geographical region # 2**:"
   ]
  },
  {
   "cell_type": "code",
   "execution_count": 25,
   "metadata": {},
   "outputs": [
    {
     "name": "stdout",
     "output_type": "stream",
     "text": [
      "Train and test the Linear Regression model for geographical region # 2\n",
      "RMSE: 0.893099286775617 \n",
      "Coefficient of Determination | R2: 0.9996233978805127 \n",
      "Average volume of predicted reserves: 68.728546895446 \n"
     ]
    }
   ],
   "source": [
    "# Train and test the Linear Regression model for geographical region # 2\n",
    "print('Train and test the Linear Regression model for geographical region # 2')\n",
    "\n",
    "target_valid_1, predictions_valid_1, rmse_1, r2_1, avg_volume_of_pred_reserves_1 = train_test_model(df_geo_data_1)\n",
    "\n",
    "print(f'RMSE: {rmse_1} ')\n",
    "print(f'Coefficient of Determination | R2: {r2_1} ')\n",
    "print(f'Average volume of predicted reserves: {avg_volume_of_pred_reserves_1} ')"
   ]
  },
  {
   "cell_type": "markdown",
   "metadata": {},
   "source": [
    "And finally for **geographical region # 3**:"
   ]
  },
  {
   "cell_type": "code",
   "execution_count": 26,
   "metadata": {},
   "outputs": [
    {
     "name": "stdout",
     "output_type": "stream",
     "text": [
      "Train and test the Linear Regression model for geographical region # 3\n",
      "RMSE: 40.02970873393434 \n",
      "Coefficient of Determination | R2: 0.20524758386040443 \n",
      "Average volume of predicted reserves: 94.96504596800489 \n"
     ]
    }
   ],
   "source": [
    "# Train and test the Linear Regression model for geographical region # 3\n",
    "print('Train and test the Linear Regression model for geographical region # 3')\n",
    "\n",
    "target_valid_2, predictions_valid_2, rmse_2, r2_2, avg_volume_of_pred_reserves_2 = train_test_model(df_geo_data_2)\n",
    "\n",
    "print(f'RMSE: {rmse_2} ')\n",
    "print(f'Coefficient of Determination | R2: {r2_2} ')\n",
    "print(f'Average volume of predicted reserves: {avg_volume_of_pred_reserves_2} ')"
   ]
  },
  {
   "cell_type": "markdown",
   "metadata": {},
   "source": [
    "So, in summary, this is what we have got:\n",
    "\n",
    "1. **Geographical Region #1**:\n",
    "- Root Mean Square Error (RMSE): 37.58\n",
    "- Coefficient of Determination (R2): 0.280\n",
    "- Average Volume of Predicted Reserves: 92.59 thousand barrels\n",
    "\n",
    "2. **Geographical Region #2**:\n",
    "- Root Mean Square Error (RMSE): 0.893\n",
    "- Coefficient of Determination (R2): 0.9996\n",
    "- Average Volume of Predicted Reserves: 68.73 thousand barrels\n",
    "\n",
    "3. **Geographical Region #3**:\n",
    "- Root Mean Square Error (RMSE): 40.03\n",
    "- Coefficient of Determination (R2): 0.205\n",
    "- Average Volume of Predicted Reserves: 94.97 thousand barrels\n",
    "\n",
    "Based on the above results, **Geographical Region #2 stands out as the best-performing region**. It has the lowest RMSE, indicating accurate predictions, and the highest R2 value.  \n",
    "\n",
    "Geographical Region #1 and #3 show lower model performance, with higher RMSE values and lower R2 values. \n",
    "\n",
    "The results suggest that **Region #2 has the most promising potential for developing new oil wells** due to its highly accurate predictions and strong correlation between the features and the volume of reserves. However, we need to dig more deep into this in our further analysis."
   ]
  },
  {
   "cell_type": "markdown",
   "metadata": {},
   "source": [
    "# 8. Prepare for profit calculation <a id='prepare-for-profit-calculation'></a>  \n",
    "[Back to Contents](#contents)"
   ]
  },
  {
   "cell_type": "markdown",
   "metadata": {},
   "source": [
    "Now, let's prepare ourselves for profit calculation. We'll store all key values for calculations in separate variables:"
   ]
  },
  {
   "cell_type": "code",
   "execution_count": 27,
   "metadata": {},
   "outputs": [],
   "source": [
    "# Store all key values for calculations in separate variables\n",
    "\n",
    "# When exploring the region, a study of 500 points is carried with picking the best 200 points\n",
    "no_of_oil_wells = 200\n",
    "\n",
    "# The budget for development of 200 oil wells is 100 USD million.\n",
    "dev_budget = 100000000\n",
    "\n",
    "# The revenue from one unit of product is 4,500 dollars\n",
    "revenue_per_product = 4500"
   ]
  },
  {
   "cell_type": "markdown",
   "metadata": {},
   "source": [
    "Now, let's **calculate the volume of reserves sufficient for developing a new well without losses** i.e. **break-even volume**. In the context of oil exploration and production, the break-even volume represents the minimum amount of oil reserves that must be extracted and sold to cover all the costs associated with drilling, development, and operation of the new well.  \n",
    "\n",
    "Once the production from the new well surpasses the break-even volume, the revenue generated from selling the extracted oil exceeds the total costs, leading to profitability. Therefore, the break-even volume is a critical threshold in determining the economic viability of a new oil well project."
   ]
  },
  {
   "cell_type": "code",
   "execution_count": 28,
   "metadata": {},
   "outputs": [
    {
     "data": {
      "text/plain": [
       "500000.0"
      ]
     },
     "execution_count": 28,
     "metadata": {},
     "output_type": "execute_result"
    }
   ],
   "source": [
    "# Calulate development cost per well in USD\n",
    "cost_per_well = dev_budget / no_of_oil_wells \n",
    "cost_per_well"
   ]
  },
  {
   "cell_type": "code",
   "execution_count": 29,
   "metadata": {},
   "outputs": [
    {
     "name": "stdout",
     "output_type": "stream",
     "text": [
      "Volume of reserves sufficient for developing a new well without losses is 111.11111111111111 thousand barrels, with 500000.0 USD cost per well.\n"
     ]
    }
   ],
   "source": [
    "# Calculate the volume of reserves sufficient for developing a new well without losses i.e. break-even volume\n",
    "breakeven_volume = cost_per_well / revenue_per_product\n",
    "print(f'Volume of reserves sufficient for developing a new well without losses is {breakeven_volume} thousand barrels, with {cost_per_well} USD cost per well.')"
   ]
  },
  {
   "cell_type": "markdown",
   "metadata": {},
   "source": [
    "Awesome! Now, let's compare the obtained value of `breakeven_volume` with the average volume of reserves in each region:"
   ]
  },
  {
   "cell_type": "code",
   "execution_count": 30,
   "metadata": {},
   "outputs": [
    {
     "name": "stdout",
     "output_type": "stream",
     "text": [
      "Average volume of predicted reserves in Region # 1: 92.59256778438035 \n",
      "Average volume of predicted reserves in Region # 2: 68.728546895446 \n",
      "Average volume of predicted reserves in Region # 3: 94.96504596800489 \n"
     ]
    }
   ],
   "source": [
    "print(f'Average volume of predicted reserves in Region # 1: {avg_volume_of_pred_reserves_0} ')\n",
    "print(f'Average volume of predicted reserves in Region # 2: {avg_volume_of_pred_reserves_1} ')\n",
    "print(f'Average volume of predicted reserves in Region # 3: {avg_volume_of_pred_reserves_2} ')"
   ]
  },
  {
   "cell_type": "markdown",
   "metadata": {},
   "source": [
    "Let's compare and analyze the average predicted reserves in each region with the break-even volume:\n",
    "\n",
    "1. **Region #1**:\n",
    "\n",
    "- Average Volume of Predicted Reserves: 92.59 thousand barrels.\n",
    "- Break-Even Volume: 111.11 thousand barrels.  \n",
    "\n",
    "**The average predicted reserves in Region #1 (92.59 thousand barrels) are below the break-even volume (111.11 thousand barrels)**. This suggests that, on average, **developing a new well in this region may not be profitable**, as the predicted reserves fall short of the volume required to cover the costs without losses.\n",
    "\n",
    "2. Region #2:\n",
    "\n",
    "- Average Volume of Predicted Reserves: 68.73 thousand barrels.\n",
    "- Break-Even Volume: 111.11 thousand barrels.  \n",
    "\n",
    "**The average predicted reserves in Region #2 (68.73 thousand barrels) are also below the break-even volume (111.11 thousand barrels)**. Similar to Region #1, **developing a new well in this region may not be economically viable** based on the average predicted reserves.\n",
    "\n",
    "3. Region #3:\n",
    "\n",
    "- Average Volume of Predicted Reserves: 94.97 thousand barrels.\n",
    "- Break-Even Volume: 111.11 thousand barrels.\n",
    "\n",
    "**In Region #3, the average predicted reserves (94.97 thousand barrels) are still below the break-even volume (111.11 thousand barrels)**.  \n",
    "\n",
    "Overall, based on the average predicted reserves, none of the regions (Region #1, Region #2, or Region #3) appear to meet the break-even volume of 111.11 thousand barrels required for developing a new well without losses, assuming a cost of 500,000 USD per well."
   ]
  },
  {
   "cell_type": "markdown",
   "metadata": {},
   "source": [
    "# 9. Calculate profit from a set of selected oil wells <a id='profit-from-a-set-of-selected-oil-wells'></a>  \n",
    "[Back to Contents](#contents)"
   ]
  },
  {
   "cell_type": "markdown",
   "metadata": {},
   "source": [
    "The objective is to identify the top 200 sites that the model predicts as the most promising locations for building new oil wells. Once these sites are determined, the next step is to calculate the profit based on the real-life values associated with these sites."
   ]
  },
  {
   "cell_type": "code",
   "execution_count": 31,
   "metadata": {},
   "outputs": [],
   "source": [
    "def get_profits_for_top_200_sites(predictions, target):\n",
    "    \n",
    "    \"\"\"\n",
    "    1. This function accepts two inputs: predictions and targets.\n",
    "    2. It gathers the top 200 predicted sites based on their highest predicted volumes of reserves. \n",
    "    3. For these selected sites, it calculates the revenue using the actual real-life values, \n",
    "    which includes the sum of the oil product and a value of $4500 per 1000 barrels. \n",
    "    4. The function then computes the profit by subtracting the development costs of $100 million from the revenue. \n",
    "    5. Finally, the function returns the calculated profit & total reserve volume.\n",
    "    \"\"\"\n",
    "    # Convert predictions into Series\n",
    "    predictions = pd.Series(predictions, index=target.index)\n",
    "    \n",
    "    top_200_predicted_sites = predictions.sort_values(ascending=False).head(200).index\n",
    "    sum_of_top_200_sites_volumes = target[top_200_predicted_sites].sum()\n",
    "    revenue = sum_of_top_200_sites_volumes * 4500\n",
    "    profit = revenue - dev_budget\n",
    "\n",
    "    return sum_of_top_200_sites_volumes, profit"
   ]
  },
  {
   "cell_type": "markdown",
   "metadata": {},
   "source": [
    "Let's calculate for Region # 1:"
   ]
  },
  {
   "cell_type": "code",
   "execution_count": 32,
   "metadata": {},
   "outputs": [
    {
     "name": "stdout",
     "output_type": "stream",
     "text": [
      "The total reserve volume for Region # 1 is 29601.83565142189 thousand barrels.\n",
      "The total profit for Region # 1 is 33208260.43139851 in USD.\n"
     ]
    }
   ],
   "source": [
    "total_reserve_volume_0, profit_0 = get_profits_for_top_200_sites(predictions_valid_0, target_valid_0)\n",
    "\n",
    "print(f'The total reserve volume for Region # 1 is {total_reserve_volume_0} thousand barrels.')\n",
    "print(f'The total profit for Region # 1 is {profit_0} in USD.')"
   ]
  },
  {
   "cell_type": "markdown",
   "metadata": {},
   "source": [
    "Let's calculate for Region # 2:"
   ]
  },
  {
   "cell_type": "code",
   "execution_count": 33,
   "metadata": {},
   "outputs": [
    {
     "name": "stdout",
     "output_type": "stream",
     "text": [
      "The total reserve volume for Region # 2 is 27589.081548181137 thousand barrels.\n",
      "The total profit for Region # 2 is 24150866.966815114 in USD.\n"
     ]
    }
   ],
   "source": [
    "total_reserve_volume_1, profit_1 = get_profits_for_top_200_sites(predictions_valid_1, target_valid_1)\n",
    "\n",
    "print(f'The total reserve volume for Region # 2 is {total_reserve_volume_1} thousand barrels.')\n",
    "print(f'The total profit for Region # 2 is {profit_1} in USD.')"
   ]
  },
  {
   "cell_type": "markdown",
   "metadata": {},
   "source": [
    "Let's calculate for Region # 3:"
   ]
  },
  {
   "cell_type": "code",
   "execution_count": 34,
   "metadata": {},
   "outputs": [
    {
     "name": "stdout",
     "output_type": "stream",
     "text": [
      "The total reserve volume for Region # 3 is 28245.22214133296 thousand barrels.\n",
      "The total profit for Region # 3 is 27103499.635998324 in USD.\n"
     ]
    }
   ],
   "source": [
    "total_reserve_volume_2, profit_2 = get_profits_for_top_200_sites(predictions_valid_2, target_valid_2)\n",
    "\n",
    "print(f'The total reserve volume for Region # 3 is {total_reserve_volume_2} thousand barrels.')\n",
    "print(f'The total profit for Region # 3 is {profit_2} in USD.')"
   ]
  },
  {
   "cell_type": "markdown",
   "metadata": {},
   "source": [
    "Based on the findings from the calculations of total reserve volume and total profit for each region, we can make a recommendation for oil wells' development:\n",
    "\n",
    "1. **Region #1**:\n",
    "\n",
    "- Total Reserve Volume: 29,601.84 thousand barrels\n",
    "- Total Profit: 33,208,260.43 USD\n",
    "\n",
    "2. **Region #2**:\n",
    "\n",
    "- Total Reserve Volume: 27,589.08 thousand barrels\n",
    "- Total Profit: 24,150,866.97 USD\n",
    "\n",
    "3. **Region #3**:\n",
    "\n",
    "- Total Reserve Volume: 28,245.22 thousand barrels\n",
    "- Total Profit: 27,103,499.64 USD  \n",
    "\n",
    "Based on the results, **Region #1 has the highest total reserve volume of 29,601.84 thousand barrels, which suggests a significant potential for oil extraction in this region**. Additionally, Region #1 also demonstrates the highest total profit of 33,208,260.43 USD, indicating that it offers the most promising economic opportunity among the three regions."
   ]
  },
  {
   "cell_type": "markdown",
   "metadata": {},
   "source": [
    "# 10. Calculate risks and profit for each region <a id='risks-and-profit-for-each-region'></a>  \n",
    "[Back to Contents](#contents)"
   ]
  },
  {
   "cell_type": "markdown",
   "metadata": {},
   "source": [
    "Let's use the bootstrapping technique with 1000 samples to find the distribution of profit. Also, let's find average profit, 95% confidence interval and risk of losses. Loss is negative profit, so, let's calculate it as a probability and then express as a percentage."
   ]
  },
  {
   "cell_type": "code",
   "execution_count": 35,
   "metadata": {},
   "outputs": [],
   "source": [
    "def bootstrap(predictions, target):\n",
    "    \n",
    "    \"\"\"\n",
    "    This function is designed to analyze the predictions and targets for the three specific regions. \n",
    "    It utilizes bootstrapping, a statistical resampling technique, to calculate the mean and 95% confidence \n",
    "    interval of the profit estimates.\n",
    "    Additionally, the function iterates through quantiles to identify the approximate quantile at which the \n",
    "    profit becomes zero, helping to assess the risk of potential losses.\n",
    "    The function provides a comprehensive summary of the results by printing the mean profit, the 95% confidence \n",
    "    interval, and the risk of loss.\n",
    "    \"\"\"\n",
    "    \n",
    "    rand_state = RandomState(0)\n",
    "    values = []\n",
    "    \n",
    "    # Convert predictions into Series\n",
    "    predictions = pd.Series(predictions, index=target.index)\n",
    "\n",
    "    for i in range(1000):\n",
    "        target_subsample = target.sample(n=500, random_state=rand_state, replace=False)\n",
    "        predictions_subsample = predictions[target_subsample.index]\n",
    "        profit = get_profits_for_top_200_sites(predictions_subsample, target_subsample)[1]\n",
    "        \n",
    "        values.append(profit)\n",
    "    \n",
    "    values = pd.Series(values)\n",
    "    mean_profit = values.mean()\n",
    "    lower_profit = values.quantile(0.025)\n",
    "    upper_profit = values.quantile(0.975)\n",
    "    \n",
    "    print(f\"Average profit is {mean_profit} in USD.\")\n",
    "    print(f\"For 95% confidence interval, the lower profit is {lower_profit} in USD and the upper profit is {upper_profit} in USD.\")\n",
    "    \n",
    "\n",
    "    for quan in range (1,100,1):\n",
    "        profit = values.quantile(quan/1000)\n",
    "        if profit >= 0:\n",
    "            break\n",
    "    print(f\"Risk of loss is {quan/10}%\")"
   ]
  },
  {
   "cell_type": "code",
   "execution_count": 36,
   "metadata": {},
   "outputs": [
    {
     "name": "stdout",
     "output_type": "stream",
     "text": [
      "Average profit is 3973281.161239682 in USD.\n",
      "For 95% confidence interval, the lower profit is -976742.1907361418 in USD and the upper profit is 8911035.45563315 in USD.\n",
      "Risk of loss is 5.9%\n"
     ]
    }
   ],
   "source": [
    "# For Region # 1\n",
    "bootstrap(predictions_valid_0, target_valid_0)"
   ]
  },
  {
   "cell_type": "code",
   "execution_count": 37,
   "metadata": {},
   "outputs": [
    {
     "name": "stdout",
     "output_type": "stream",
     "text": [
      "Average profit is 4568945.689079863 in USD.\n",
      "For 95% confidence interval, the lower profit is 431660.3432972718 in USD and the upper profit is 8451364.730538176 in USD.\n",
      "Risk of loss is 0.9%\n"
     ]
    }
   ],
   "source": [
    "# For Region # 2\n",
    "bootstrap(predictions_valid_1, target_valid_1)"
   ]
  },
  {
   "cell_type": "code",
   "execution_count": 38,
   "metadata": {
    "scrolled": true
   },
   "outputs": [
    {
     "name": "stdout",
     "output_type": "stream",
     "text": [
      "Average profit is 3964652.612256283 in USD.\n",
      "For 95% confidence interval, the lower profit is -958061.7904931746 in USD and the upper profit is 9205980.325455725 in USD.\n",
      "Risk of loss is 7.6%\n"
     ]
    }
   ],
   "source": [
    "# For Region # 3\n",
    "bootstrap(predictions_valid_2, target_valid_2)"
   ]
  },
  {
   "cell_type": "markdown",
   "metadata": {},
   "source": [
    "Based on the results from the bootstrapping technique for the three regions, we can provide the following findings and a recommendation for the development of oil wells:\n",
    "\n",
    "1. **Region #1**:\n",
    "\n",
    "- Average Profit: 3,973,281.16 USD\n",
    "- 95% Confidence Interval (Lower Profit): -976,742.19 USD\n",
    "- 95% Confidence Interval (Upper Profit): 8,911,035.46 USD\n",
    "- Risk of Loss: 5.9%\n",
    "\n",
    "2. **Region #2**:\n",
    "\n",
    "- Average Profit: 4,568,945.69 USD\n",
    "- 95% Confidence Interval (Lower Profit): 431,660.34 USD\n",
    "- 95% Confidence Interval (Upper Profit): 8,451,364.73 USD\n",
    "- Risk of Loss: 0.9%\n",
    "\n",
    "3. **Region #3**:\n",
    "\n",
    "- Average Profit: 3,964,652.61 USD\n",
    "- 95% Confidence Interval (Lower Profit): -958,061.79 USD\n",
    "- 95% Confidence Interval (Upper Profit): 9,205,980.33 USD\n",
    "- Risk of Loss: 7.6%\n",
    "\n",
    "In summary, **Region #2 stands out as the most favorable choice for the development of oil wells** as:\n",
    "\n",
    "- Region #2 has the highest average profit of 4,568,945.69 USD among the three regions. This indicates that, on average, the oil well development in Region #2 is expected to yield the highest returns.\n",
    "\n",
    "- The 95% confidence interval for Region #2 is relatively narrow, with the lower profit boundary at 431,660.34 USD and the upper profit boundary at 8,451,364.73 USD. This suggests a high level of confidence in the profit estimates.\n",
    "\n",
    "- Region #2 has the lowest risk of loss at 0.9%. This implies that the probability of incurring losses during oil well development is very low, making it a more secure investment option."
   ]
  },
  {
   "cell_type": "markdown",
   "metadata": {},
   "source": [
    "# 11. Conclusion  <a id='conclusion'></a>  \n",
    "[Back to Contents](#contents)"
   ]
  },
  {
   "cell_type": "markdown",
   "metadata": {},
   "source": [
    "In conclusion, this project aimed to identify the most promising region for the development of new oil wells for the OilyGiant mining company. The process involved various steps, including data collection, model training, profit calculation, and risk assessment using bootstrapping. The primary goal was to maximize profit while minimizing the risk of losses.\n",
    "\n",
    "After analyzing the data and training linear regression models for each region, we evaluated the predictive performance. Among the three regions, **Region #2 exhibited the highest average predicted reserves**.  \n",
    "\n",
    "Using the bootstrapping technique with 1000 samples, we calculated the mean profit and 95% confidence interval for each region. **Region #2 continued to show the highest average profit and the narrowest confidence interval**. Moreover, Region #2 had the lowest risk of losses at only 0.9%, making it a more secure investment choice.\n",
    "\n",
    "Based on these comprehensive findings, **we recommend Region #2 as the most suitable region for oil wells' development**. The combination of high average profit, low risk of losses, and a narrow confidence interval positions Region #2 as the most promising option for maximizing returns on investment."
   ]
  }
 ],
 "metadata": {
  "kernelspec": {
   "display_name": "Python 3 (ipykernel)",
   "language": "python",
   "name": "python3"
  },
  "language_info": {
   "codemirror_mode": {
    "name": "ipython",
    "version": 3
   },
   "file_extension": ".py",
   "mimetype": "text/x-python",
   "name": "python",
   "nbconvert_exporter": "python",
   "pygments_lexer": "ipython3",
   "version": "3.9.5"
  },
  "toc": {
   "base_numbering": 1,
   "nav_menu": {},
   "number_sections": true,
   "sideBar": true,
   "skip_h1_title": true,
   "title_cell": "Table of Contents",
   "title_sidebar": "Contents",
   "toc_cell": false,
   "toc_position": {},
   "toc_section_display": true,
   "toc_window_display": false
  }
 },
 "nbformat": 4,
 "nbformat_minor": 2
}
